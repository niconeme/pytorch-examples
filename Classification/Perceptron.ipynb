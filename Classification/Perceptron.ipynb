{
 "cells": [
  {
   "cell_type": "markdown",
   "metadata": {},
   "source": [
    "# Perceptron with Pytorch\n",
    "#### Luca Laringe"
   ]
  },
  {
   "cell_type": "markdown",
   "metadata": {},
   "source": [
    "In this notebook, I will show a basic implementation of a perceptron using Pytorch.\n",
    "A perceptron is a single layer neural network, it is maily used for classification purposes. More info at https://en.wikipedia.org/wiki/Perceptron."
   ]
  },
  {
   "cell_type": "markdown",
   "metadata": {},
   "source": [
    "## Data"
   ]
  },
  {
   "cell_type": "markdown",
   "metadata": {},
   "source": [
    "In this section I am going to generate the data we are going to fit my model on. Let's first import the libraries we need."
   ]
  },
  {
   "cell_type": "code",
   "execution_count": 7,
   "metadata": {},
   "outputs": [],
   "source": [
    "import torch                                         # Our main library         \n",
    "import torch.nn as nn                                # To define a neural network\n",
    "from torch.utils.data import Dataset, DataLoader     # To put the data in a class that pytorch knows hoe to handle\n",
    "from torch.distributions import multivariate_normal  # To generate random data\n",
    "\n",
    "import numpy as np\n",
    "import matplotlib.pyplot as plt\n",
    "%matplotlib inline\n",
    "plt.rc('figure', figsize=(14, 8))\n",
    "plt.rc('grid', color='gray', alpha = 0.3, linestyle='solid')\n",
    "\n",
    "from IPython.core.debugger import set_trace            # Debugging tool"
   ]
  },
  {
   "cell_type": "markdown",
   "metadata": {},
   "source": [
    "Let's now generate some data coming from two clusters (I call them $cluster_0$ and $cluser_1$). Each cluster is going to be distributed as a bivariate normal with its own mean vector and covariance matrix."
   ]
  },
  {
   "cell_type": "code",
   "execution_count": 8,
   "metadata": {},
   "outputs": [],
   "source": [
    "n_sample_0 = 100\n",
    "n_sample_1 = 100\n",
    "n_sample = n_sample_0 + n_sample_1\n",
    "\n",
    "mean_0 = torch.Tensor([0.3,0.7])  # Mean vector of cluster 0\n",
    "mean_1 = torch.Tensor([0.7,0.3])  # Mean vector of cluster 1\n",
    "cov_0 = 0.005*torch.eye(2)        # Covariance matrix of cluster 0\n",
    "cov_1 = 0.005*torch.eye(2)        # Covariance matrix of cluster 1\n",
    "\n",
    "cluster_0_dist = multivariate_normal.MultivariateNormal(loc=mean_0, covariance_matrix=cov_0)\n",
    "cluster_1_dist = multivariate_normal.MultivariateNormal(loc=mean_1, covariance_matrix=cov_1)\n",
    "\n",
    "data_cluster_0 = cluster_0_dist.sample((n_sample_0,))                    # Sample the features\n",
    "data_cluster_0 = torch.cat((data_cluster_0, torch.zeros(n_sample_0,1)),1)# Generate the labels\n",
    "\n",
    "data_cluster_1 = cluster_1_dist.sample((n_sample_1,))                    # Sample the features\n",
    "data_cluster_1 = torch.cat((data_cluster_1, torch.ones(n_sample_1,1)),1) # Generate the labels\n",
    "\n",
    "# Aggregate the data by rows, shuffle them and then divide them into training and testing\n",
    "data = torch.cat((data_cluster_0, data_cluster_1),0)\n",
    "data = data[torch.randperm(n_sample).numpy(),:]\n",
    "\n",
    "data_train = data[:int(n_sample*0.7)]\n",
    "data_test = data[int(n_sample*0.7):]"
   ]
  },
  {
   "cell_type": "code",
   "execution_count": 9,
   "metadata": {},
   "outputs": [
    {
     "name": "stdout",
     "output_type": "stream",
     "text": [
      "True 200\n",
      "tensor([[0.3326, 0.6749, 0.0000],\n",
      "        [0.3031, 0.7869, 0.0000],\n",
      "        [0.7281, 0.1630, 1.0000],\n",
      "        [0.2851, 0.8599, 0.0000],\n",
      "        [0.3911, 0.7956, 0.0000],\n",
      "        [0.4759, 0.6768, 0.0000],\n",
      "        [0.5922, 0.2738, 1.0000],\n",
      "        [0.4088, 0.6755, 0.0000],\n",
      "        [0.3049, 0.6960, 0.0000],\n",
      "        [0.3189, 0.7038, 0.0000]])\n"
     ]
    }
   ],
   "source": [
    "# Check everything worked out as expected\n",
    "\n",
    "print(len(data) == len(data_train) + len(data_test), len(data))\n",
    "print(data[:10])"
   ]
  },
  {
   "cell_type": "code",
   "execution_count": 10,
   "metadata": {},
   "outputs": [
    {
     "data": {
      "image/png": "[encoded data removed]",
      "text/plain": [
       "<Figure size 1008x576 with 1 Axes>"
      ]
     },
     "metadata": {
      "needs_background": "light"
     },
     "output_type": "display_data"
    }
   ],
   "source": [
    "# Visualizing the data\n",
    "\n",
    "plt.scatter(data_cluster_0[:,0], data_cluster_0[:,1]);\n",
    "plt.scatter(data_cluster_1[:,0], data_cluster_1[:,1]);\n",
    "plt.legend(['Cluster 0', 'Cluster 1']);"
   ]
  },
  {
   "cell_type": "markdown",
   "metadata": {},
   "source": [
    "Now that we have our data, let's create a dataset and a dataloader so we can use batches to train the model.\n",
    "\n",
    "First we will create the my_dataset class that inherits from the Dataset class in Pytorch. We need to do it in order to use the Dataloader later. In every dataset class you build, you shoulf always specify the __init__ method recalling that your class should call the __init__ method of the superclass, the __len__ method which returns the length of the dataset, and finally the __getitem__ method , that takes an index and returns the features and labels of the dataset at that index. Note that we are not going to use the transform function here because our data is already tidy and organized in a Pytorch tensor. Nevertheless, when your data is stored in another data structure, for example a pandas DataFrame, the transform function should be viewed as a bridge between your data structure and a Pytorch tensor.\n",
    "\n",
    "Finally, the Dataloader function will allow us to divide the training set in batches, so that our training will be more effective. In partucular, for each epoch of training, I will divide my training set in 5 batches."
   ]
  },
  {
   "cell_type": "code",
   "execution_count": 11,
   "metadata": {},
   "outputs": [],
   "source": [
    "class my_dataset(Dataset):\n",
    "    \n",
    "    def __init__(self, data, transform = None):\n",
    "        super().__init__()\n",
    "        self.data = data\n",
    "        self.transform = transform\n",
    "        \n",
    "    def __len__(self):\n",
    "        return len(self.data)\n",
    "    \n",
    "    def __getitem__(self, index):\n",
    "        features = data[index,:2]\n",
    "        labels = data[index, 2]\n",
    "        \n",
    "        if self.transform:\n",
    "            features = self.transform(features)\n",
    "            labels = self.transform(labels)\n",
    "            \n",
    "        return (features.reshape(2), labels.reshape(1))\n",
    "    \n",
    "# Define instances of my_dataset\n",
    "my_data_train = my_dataset(data_train)\n",
    "my_data_test = my_dataset(data_test)\n",
    "\n",
    "# Define the data loader for the traning data\n",
    "n_batches = 5\n",
    "\n",
    "train_loader = DataLoader(batch_size=int(len(my_data_train)/n_batches),\n",
    "                          dataset=my_data_train, shuffle=True)"
   ]
  },
  {
   "cell_type": "code",
   "execution_count": 12,
   "metadata": {},
   "outputs": [
    {
     "name": "stdout",
     "output_type": "stream",
     "text": [
      "tensor([0.3326, 0.6749])\n",
      "tensor([0.])\n"
     ]
    }
   ],
   "source": [
    "# Check everything works as expected\n",
    "print(my_data_train.__getitem__(0)[0])\n",
    "print(my_data_train.__getitem__(0)[1])"
   ]
  },
  {
   "cell_type": "markdown",
   "metadata": {},
   "source": [
    "## Modelling"
   ]
  },
  {
   "cell_type": "markdown",
   "metadata": {},
   "source": [
    "Let's now define a perceptron. \n",
    "\n",
    "Note that in Pytorch, every neural network you design, should inherit from the superclass nn.Module. Note also that I will built my perceptron to have a continuous output. To do so I will use the logistic function as the activation function of the output neuron. Doing so, will allow me to interpret the output of the perceptron as the probability of the data point to belong to cluster 1. If you would like a binary output, in general will have to use the unit step activation function."
   ]
  },
  {
   "cell_type": "code",
   "execution_count": 13,
   "metadata": {},
   "outputs": [],
   "source": [
    "class perceptron(nn.Module):\n",
    "    \n",
    "    def __init__(self, n_features):\n",
    "        super().__init__()\n",
    "        self.n_features = n_features\n",
    "        self.fc1 = nn.Linear(n_features, 1)\n",
    "        \n",
    "    def forward(self, x):\n",
    "        out = self.fc1(x)\n",
    "        out = torch.sigmoid(out)\n",
    "        return(out)"
   ]
  },
  {
   "cell_type": "markdown",
   "metadata": {},
   "source": [
    "Now that we defined our perceptron class, we need to optimize the network. In order to do so, we will need 3 things (you will always need these regardless of the neural network model you are using):\n",
    "\n",
    "* An *instance* of the model: in our case, we are going to call the perceptron class and initialize it to have 2 features (like our dataset).\n",
    "* A loss function to optimize: I will call it criterion and I will use the MSE loss. I am not using the perceptron loss function because I have a continuous output.\n",
    "* An optimizer: In this case, I will use stochastic gradient descent."
   ]
  },
  {
   "cell_type": "code",
   "execution_count": 14,
   "metadata": {},
   "outputs": [],
   "source": [
    "# Define an instance of such network\n",
    "my_perceptron = perceptron(2)\n",
    "\n",
    "# Define a loss\n",
    "criterion = nn.MSELoss()\n",
    "\n",
    "# Define an optimizer\n",
    "optimizer = optimizer = torch.optim.SGD(my_perceptron.parameters(), lr=0.01) "
   ]
  },
  {
   "cell_type": "code",
   "execution_count": 15,
   "metadata": {},
   "outputs": [
    {
     "name": "stdout",
     "output_type": "stream",
     "text": [
      "tensor([0.3833], grad_fn=<SigmoidBackward>)\n",
      "tensor([0.3789], grad_fn=<SigmoidBackward>)\n",
      "tensor(0.)\n",
      "tensor(1.)\n",
      "torch.Size([1])\n",
      "torch.Size([1])\n"
     ]
    },
    {
     "data": {
      "text/plain": [
       "tensor([0.])"
      ]
     },
     "execution_count": 15,
     "metadata": {},
     "output_type": "execute_result"
    }
   ],
   "source": [
    "# Check everything works as expected\n",
    "\n",
    "print(my_perceptron(torch.Tensor([0.3,0.7])))\n",
    "print(my_perceptron(my_data_train.__getitem__(0)[0]))\n",
    "\n",
    "print(criterion(torch.zeros(1), torch.zeros(1)))\n",
    "print(criterion(torch.zeros(1), torch.ones(1)))\n",
    "\n",
    "print(my_data_train.__getitem__(0)[1].shape)\n",
    "print(my_perceptron(my_data_train.__getitem__(0)[0]).shape)\n",
    "\n",
    "my_data_train.__getitem__(0)[0]\n",
    "my_data_train.__getitem__(0)[1]"
   ]
  },
  {
   "cell_type": "markdown",
   "metadata": {},
   "source": [
    "## Training"
   ]
  },
  {
   "cell_type": "code",
   "execution_count": 16,
   "metadata": {},
   "outputs": [
    {
     "name": "stdout",
     "output_type": "stream",
     "text": [
      "Epoch n. 1, Training Loss: 0.2867, Test Loss: 0.3148\n",
      "Epoch n. 200, Training Loss: 0.2303, Test Loss: 0.2390\n",
      "Epoch n. 400, Training Loss: 0.1902, Test Loss: 0.1943\n",
      "Epoch n. 600, Training Loss: 0.1590, Test Loss: 0.1619\n",
      "Epoch n. 800, Training Loss: 0.1348, Test Loss: 0.1371\n",
      "Epoch n. 1000, Training Loss: 0.1159, Test Loss: 0.1178\n"
     ]
    }
   ],
   "source": [
    "n_epochs = 1000\n",
    "\n",
    "for epoch in range(1,n_epochs+1):\n",
    "    \n",
    "    loss_training = 0\n",
    "    \n",
    "    for i, (x, y) in enumerate(train_loader):\n",
    "        \n",
    "        my_perceptron.train()        # Set the model in training mode\n",
    "        optimizer.zero_grad()        # Set the grazient to 0\n",
    "        y_ = my_perceptron(x)        # Compute the predicted values\n",
    "        loss = criterion(y_, y)      # Compute the loss\n",
    "        loss.backward()              # Computes the gradient of current tensor w.r.t. graph leaves\n",
    "        optimizer.step()             # Updates the parameters\n",
    "        \n",
    "        loss_training += loss.data.numpy()/n_batches # Averages up loss for each batch of training\n",
    "        \n",
    "    if ((epoch == 1) or (epoch%(n_epochs//5) == 0)):\n",
    "        \n",
    "        my_perceptron.eval()         # Set the model in evaluation mode\n",
    "        \n",
    "        test_features = data_test[:,:2]\n",
    "        test_labels = data_test[:,2].reshape(len(data_test),1)\n",
    "        test_predictions = my_perceptron(test_features) \n",
    "        \n",
    "        loss_test = criterion(test_predictions, test_labels)  # Computing (average) loss on test set\n",
    "        \n",
    "        print('Epoch n. %d, Training Loss: %.4f, Test Loss: %.4f'\n",
    "             %(epoch, loss_training, loss_test.data.numpy()))"
   ]
  },
  {
   "cell_type": "markdown",
   "metadata": {},
   "source": [
    "## Model Evaluation"
   ]
  },
  {
   "cell_type": "markdown",
   "metadata": {},
   "source": [
    "Let's evaluate the performance of our model computing the accuracy of the predictions on the test set and visializing the decision boundary the perceptron learned."
   ]
  },
  {
   "cell_type": "code",
   "execution_count": 17,
   "metadata": {},
   "outputs": [
    {
     "name": "stdout",
     "output_type": "stream",
     "text": [
      "\n",
      "\n",
      "Accuracy on Test set:  100.0 %\n",
      "\n"
     ]
    }
   ],
   "source": [
    "# Now let's compute the predictions and plot them\n",
    "\n",
    "y_ = my_perceptron(data_test[:,:2]) > 0.5               # Assigns one if the value is greater than 0.5\n",
    "data_pred = torch.cat((data_test[:,:2], y_.float()),1)  \n",
    "\n",
    "predicted_well = (y_.reshape(len(data_test)).float() == data_test[:,2]).sum().numpy()\n",
    "test_size = len(data_test)\n",
    "accuracy = predicted_well/test_size\n",
    "\n",
    "data_pred_0 = data_pred[data_pred[:,2] == 0]\n",
    "data_pred_1 = data_pred[data_pred[:,2] == 1]\n",
    "print('\\n\\nAccuracy on Test set: ', accuracy*100, '%\\n')"
   ]
  },
  {
   "cell_type": "markdown",
   "metadata": {},
   "source": [
    "Let's now try to visualize the decision boundary. To do so I will bo through some basic math.\n",
    "Our perceptron takes two inputs: $x_1$ and $x_2$ and outputs a value between 0 and 1. If such value is greater than 0.5, we predict 1, else we predict 0.\n",
    "\n",
    "The output value is given by:\n",
    "\n",
    "$ output = sigmoid ( bias + weight_1 \\times x_1 + weight_2 \\times x_2)$\n",
    "\n",
    "The boundary satisfies this condition:\n",
    "\n",
    "$ sigmoid(bias + weight_1 \\times x_1 + weight_2 \\times x_2) = 0.5 $\n",
    "\n",
    "Hence, we can solve for $x_2$ and find the equation of the line:\n",
    "\n",
    "$ x_2 = \\frac{sigmoid^{-1}(0.5)-bias}{weight_2} - \\frac{weight_1}{weight_2} \\times x_1 $\n",
    "\n",
    "Also, note that the sigmoid function is:\n",
    "\n",
    "$sigmoid(z) = \\frac{1}{1+e^{-z}}$\n",
    "\n",
    "And thus its inverse is:\n",
    "\n",
    "$sigmoid^{-1}(x) = -\\log(\\frac{1-x}{x}) = \\log(\\frac{x}{1-x})$\n",
    "\n",
    "Now we are ready to plot!"
   ]
  },
  {
   "cell_type": "code",
   "execution_count": 18,
   "metadata": {},
   "outputs": [],
   "source": [
    "def sigmoid_inv(x):\n",
    "    return np.log(x/(1-x))\n",
    "\n",
    "bias = my_perceptron.fc1.bias.detach().numpy()[0]\n",
    "weight_1 = my_perceptron.fc1.weight.detach().numpy()[0][0]\n",
    "weight_2 = my_perceptron.fc1.weight.detach().numpy()[0][1]"
   ]
  },
  {
   "cell_type": "markdown",
   "metadata": {},
   "source": [
    "Let's first visualize the decision boundary and the test set."
   ]
  },
  {
   "cell_type": "code",
   "execution_count": 19,
   "metadata": {},
   "outputs": [
    {
     "data": {
      "image/png": "[encoded data removed]",
      "text/plain": [
       "<Figure size 1008x576 with 1 Axes>"
      ]
     },
     "metadata": {
      "needs_background": "light"
     },
     "output_type": "display_data"
    }
   ],
   "source": [
    "xs = np.linspace(torch.min(data_test[:,0]), torch.max(data_test[:,0]),1000)\n",
    "ys = (sigmoid_inv(0.5)-bias)/weight_2 - (weight_1/weight_2)*xs\n",
    "\n",
    "data_test_0 = data_test[data_test[:,2] == 0]\n",
    "data_test_1 = data_test[data_test[:,2] == 1]\n",
    "\n",
    "plt.scatter(data_test_0[:,0], data_test_0[:,1]);\n",
    "plt.scatter(data_test_1[:,0], data_test_1[:,1]);\n",
    "plt.legend(['Cluster 0', 'Cluster 1']);\n",
    "plt.plot(xs,ys);"
   ]
  },
  {
   "cell_type": "markdown",
   "metadata": {},
   "source": [
    "Let's now look at the same chart for all our data."
   ]
  },
  {
   "cell_type": "code",
   "execution_count": 20,
   "metadata": {},
   "outputs": [
    {
     "data": {
      "image/png": "[encoded data removed]",
      "text/plain": [
       "<Figure size 1008x576 with 1 Axes>"
      ]
     },
     "metadata": {
      "needs_background": "light"
     },
     "output_type": "display_data"
    }
   ],
   "source": [
    "plt.scatter(data_cluster_0[:,0], data_cluster_0[:,1]);\n",
    "plt.scatter(data_cluster_1[:,0], data_cluster_1[:,1]);\n",
    "plt.legend(['Cluster 0', 'Cluster 1']);\n",
    "plt.plot(xs,ys);"
   ]
  }
 ],
 "metadata": {
  "kernelspec": {
   "display_name": "Python 3",
   "language": "python",
   "name": "python3"
  },
  "language_info": {
   "codemirror_mode": {
    "name": "ipython",
    "version": 3
   },
   "file_extension": ".py",
   "mimetype": "text/x-python",
   "name": "python",
   "nbconvert_exporter": "python",
   "pygments_lexer": "ipython3",
   "version": "3.7.0"
  },
  "varInspector": {
   "cols": {
    "lenName": 16,
    "lenType": 16,
    "lenVar": 40
   },
   "kernels_config": {
    "python": {
     "delete_cmd_postfix": "",
     "delete_cmd_prefix": "del ",
     "library": "var_list.py",
     "varRefreshCmd": "print(var_dic_list())"
    },
    "r": {
     "delete_cmd_postfix": ") ",
     "delete_cmd_prefix": "rm(",
     "library": "var_list.r",
     "varRefreshCmd": "cat(var_dic_list()) "
    }
   },
   "types_to_exclude": [
    "module",
    "function",
    "builtin_function_or_method",
    "instance",
    "_Feature"
   ],
   "window_display": false
  }
 },
 "nbformat": 4,
 "nbformat_minor": 2
}
